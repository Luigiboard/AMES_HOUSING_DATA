{
 "cells": [
  {
   "cell_type": "code",
   "execution_count": 41,
   "metadata": {},
   "outputs": [],
   "source": [
    "#import relevant modules\n",
    "\n",
    "import pandas as pd\n",
    "import numpy as np\n",
    "import matplotlib.pyplot as plt\n",
    "import seaborn as sns\n",
    "import pickle\n",
    "import joblib\n",
    "\n",
    "#modelling imports \n",
    "\n",
    "from sklearn.model_selection import train_test_split,GridSearchCV,cross_val_score\n",
    "from sklearn.linear_model import LinearRegression,Ridge,Lasso,RidgeCV,LassoCV,ElasticNet,ElasticNetCV\n",
    "from sklearn.tree import DecisionTreeRegressor,export_text\n",
    "from sklearn.ensemble import RandomForestRegressor,GradientBoostingRegressor\n",
    "from sklearn import metrics\n",
    "from sklearn.metrics import mean_absolute_error,mean_squared_error,r2_score,accuracy_score,f1_score\n",
    "\n",
    "from sklearn.neighbors import KNeighborsRegressor\n",
    "from sklearn.svm import SVR\n",
    "\n",
    "from tqdm import tqdm\n",
    "\n",
    "#Pipeline imports \n",
    "\n",
    "from sklearn.impute import SimpleImputer\n",
    "from sklearn.preprocessing import StandardScaler,OneHotEncoder,PolynomialFeatures\n",
    "from sklearn.compose import ColumnTransformer\n",
    "from sklearn.pipeline import Pipeline\n",
    "\n",
    "import statsmodels.api as sm \n"
   ]
  },
  {
   "cell_type": "code",
   "execution_count": 2,
   "metadata": {},
   "outputs": [
    {
     "data": {
      "text/html": [
       "<div>\n",
       "<style scoped>\n",
       "    .dataframe tbody tr th:only-of-type {\n",
       "        vertical-align: middle;\n",
       "    }\n",
       "\n",
       "    .dataframe tbody tr th {\n",
       "        vertical-align: top;\n",
       "    }\n",
       "\n",
       "    .dataframe thead th {\n",
       "        text-align: right;\n",
       "    }\n",
       "</style>\n",
       "<table border=\"1\" class=\"dataframe\">\n",
       "  <thead>\n",
       "    <tr style=\"text-align: right;\">\n",
       "      <th></th>\n",
       "      <th>saleprice</th>\n",
       "      <th>age</th>\n",
       "      <th>neighborhood_order</th>\n",
       "      <th>local_conditions</th>\n",
       "      <th>was_remodeled</th>\n",
       "      <th>overallqual</th>\n",
       "      <th>house_style_condensed_1.5</th>\n",
       "      <th>house_style_condensed_2.0</th>\n",
       "      <th>exterqual</th>\n",
       "      <th>external_feature</th>\n",
       "      <th>...</th>\n",
       "      <th>paveddrive</th>\n",
       "      <th>bsmtqual</th>\n",
       "      <th>bsmttype*sfall</th>\n",
       "      <th>bsmtexposure</th>\n",
       "      <th>heatingqc</th>\n",
       "      <th>kitchenqual</th>\n",
       "      <th>fireplacequ</th>\n",
       "      <th>qualityabovesqft</th>\n",
       "      <th>totrmsabvgrd</th>\n",
       "      <th>room_size</th>\n",
       "    </tr>\n",
       "  </thead>\n",
       "  <tbody>\n",
       "    <tr>\n",
       "      <th>0</th>\n",
       "      <td>208500</td>\n",
       "      <td>5</td>\n",
       "      <td>3</td>\n",
       "      <td>2</td>\n",
       "      <td>0</td>\n",
       "      <td>7</td>\n",
       "      <td>0</td>\n",
       "      <td>1</td>\n",
       "      <td>4</td>\n",
       "      <td>10</td>\n",
       "      <td>...</td>\n",
       "      <td>2</td>\n",
       "      <td>4</td>\n",
       "      <td>4236</td>\n",
       "      <td>1</td>\n",
       "      <td>5</td>\n",
       "      <td>4</td>\n",
       "      <td>0</td>\n",
       "      <td>1710</td>\n",
       "      <td>8</td>\n",
       "      <td>213.750000</td>\n",
       "    </tr>\n",
       "    <tr>\n",
       "      <th>1</th>\n",
       "      <td>181500</td>\n",
       "      <td>31</td>\n",
       "      <td>4</td>\n",
       "      <td>1</td>\n",
       "      <td>0</td>\n",
       "      <td>6</td>\n",
       "      <td>0</td>\n",
       "      <td>0</td>\n",
       "      <td>3</td>\n",
       "      <td>6</td>\n",
       "      <td>...</td>\n",
       "      <td>2</td>\n",
       "      <td>4</td>\n",
       "      <td>4890</td>\n",
       "      <td>4</td>\n",
       "      <td>5</td>\n",
       "      <td>3</td>\n",
       "      <td>3</td>\n",
       "      <td>1262</td>\n",
       "      <td>6</td>\n",
       "      <td>210.333333</td>\n",
       "    </tr>\n",
       "    <tr>\n",
       "      <th>2</th>\n",
       "      <td>223500</td>\n",
       "      <td>7</td>\n",
       "      <td>3</td>\n",
       "      <td>2</td>\n",
       "      <td>1</td>\n",
       "      <td>7</td>\n",
       "      <td>0</td>\n",
       "      <td>1</td>\n",
       "      <td>4</td>\n",
       "      <td>10</td>\n",
       "      <td>...</td>\n",
       "      <td>2</td>\n",
       "      <td>4</td>\n",
       "      <td>2916</td>\n",
       "      <td>2</td>\n",
       "      <td>5</td>\n",
       "      <td>4</td>\n",
       "      <td>3</td>\n",
       "      <td>1786</td>\n",
       "      <td>6</td>\n",
       "      <td>297.666667</td>\n",
       "    </tr>\n",
       "    <tr>\n",
       "      <th>3</th>\n",
       "      <td>140000</td>\n",
       "      <td>91</td>\n",
       "      <td>3</td>\n",
       "      <td>2</td>\n",
       "      <td>1</td>\n",
       "      <td>7</td>\n",
       "      <td>0</td>\n",
       "      <td>1</td>\n",
       "      <td>3</td>\n",
       "      <td>6</td>\n",
       "      <td>...</td>\n",
       "      <td>2</td>\n",
       "      <td>3</td>\n",
       "      <td>1080</td>\n",
       "      <td>1</td>\n",
       "      <td>4</td>\n",
       "      <td>4</td>\n",
       "      <td>4</td>\n",
       "      <td>1717</td>\n",
       "      <td>7</td>\n",
       "      <td>245.285714</td>\n",
       "    </tr>\n",
       "    <tr>\n",
       "      <th>4</th>\n",
       "      <td>250000</td>\n",
       "      <td>8</td>\n",
       "      <td>4</td>\n",
       "      <td>2</td>\n",
       "      <td>0</td>\n",
       "      <td>8</td>\n",
       "      <td>0</td>\n",
       "      <td>1</td>\n",
       "      <td>4</td>\n",
       "      <td>10</td>\n",
       "      <td>...</td>\n",
       "      <td>2</td>\n",
       "      <td>4</td>\n",
       "      <td>3930</td>\n",
       "      <td>3</td>\n",
       "      <td>5</td>\n",
       "      <td>4</td>\n",
       "      <td>3</td>\n",
       "      <td>2198</td>\n",
       "      <td>9</td>\n",
       "      <td>244.222222</td>\n",
       "    </tr>\n",
       "    <tr>\n",
       "      <th>...</th>\n",
       "      <td>...</td>\n",
       "      <td>...</td>\n",
       "      <td>...</td>\n",
       "      <td>...</td>\n",
       "      <td>...</td>\n",
       "      <td>...</td>\n",
       "      <td>...</td>\n",
       "      <td>...</td>\n",
       "      <td>...</td>\n",
       "      <td>...</td>\n",
       "      <td>...</td>\n",
       "      <td>...</td>\n",
       "      <td>...</td>\n",
       "      <td>...</td>\n",
       "      <td>...</td>\n",
       "      <td>...</td>\n",
       "      <td>...</td>\n",
       "      <td>...</td>\n",
       "      <td>...</td>\n",
       "      <td>...</td>\n",
       "      <td>...</td>\n",
       "    </tr>\n",
       "    <tr>\n",
       "      <th>1441</th>\n",
       "      <td>175000</td>\n",
       "      <td>8</td>\n",
       "      <td>3</td>\n",
       "      <td>2</td>\n",
       "      <td>1</td>\n",
       "      <td>6</td>\n",
       "      <td>0</td>\n",
       "      <td>1</td>\n",
       "      <td>3</td>\n",
       "      <td>10</td>\n",
       "      <td>...</td>\n",
       "      <td>2</td>\n",
       "      <td>4</td>\n",
       "      <td>0</td>\n",
       "      <td>1</td>\n",
       "      <td>5</td>\n",
       "      <td>3</td>\n",
       "      <td>3</td>\n",
       "      <td>1647</td>\n",
       "      <td>7</td>\n",
       "      <td>235.285714</td>\n",
       "    </tr>\n",
       "    <tr>\n",
       "      <th>1442</th>\n",
       "      <td>210000</td>\n",
       "      <td>32</td>\n",
       "      <td>3</td>\n",
       "      <td>2</td>\n",
       "      <td>1</td>\n",
       "      <td>6</td>\n",
       "      <td>0</td>\n",
       "      <td>0</td>\n",
       "      <td>3</td>\n",
       "      <td>8</td>\n",
       "      <td>...</td>\n",
       "      <td>2</td>\n",
       "      <td>4</td>\n",
       "      <td>4439</td>\n",
       "      <td>1</td>\n",
       "      <td>3</td>\n",
       "      <td>3</td>\n",
       "      <td>3</td>\n",
       "      <td>2073</td>\n",
       "      <td>7</td>\n",
       "      <td>296.142857</td>\n",
       "    </tr>\n",
       "    <tr>\n",
       "      <th>1443</th>\n",
       "      <td>266500</td>\n",
       "      <td>69</td>\n",
       "      <td>3</td>\n",
       "      <td>2</td>\n",
       "      <td>1</td>\n",
       "      <td>7</td>\n",
       "      <td>0</td>\n",
       "      <td>1</td>\n",
       "      <td>5</td>\n",
       "      <td>10</td>\n",
       "      <td>...</td>\n",
       "      <td>2</td>\n",
       "      <td>3</td>\n",
       "      <td>1650</td>\n",
       "      <td>1</td>\n",
       "      <td>5</td>\n",
       "      <td>4</td>\n",
       "      <td>4</td>\n",
       "      <td>2340</td>\n",
       "      <td>9</td>\n",
       "      <td>260.000000</td>\n",
       "    </tr>\n",
       "    <tr>\n",
       "      <th>1444</th>\n",
       "      <td>142125</td>\n",
       "      <td>60</td>\n",
       "      <td>2</td>\n",
       "      <td>2</td>\n",
       "      <td>1</td>\n",
       "      <td>5</td>\n",
       "      <td>0</td>\n",
       "      <td>0</td>\n",
       "      <td>3</td>\n",
       "      <td>6</td>\n",
       "      <td>...</td>\n",
       "      <td>2</td>\n",
       "      <td>3</td>\n",
       "      <td>3381</td>\n",
       "      <td>2</td>\n",
       "      <td>4</td>\n",
       "      <td>4</td>\n",
       "      <td>0</td>\n",
       "      <td>1078</td>\n",
       "      <td>5</td>\n",
       "      <td>215.600000</td>\n",
       "    </tr>\n",
       "    <tr>\n",
       "      <th>1445</th>\n",
       "      <td>147500</td>\n",
       "      <td>43</td>\n",
       "      <td>1</td>\n",
       "      <td>2</td>\n",
       "      <td>0</td>\n",
       "      <td>5</td>\n",
       "      <td>0</td>\n",
       "      <td>0</td>\n",
       "      <td>4</td>\n",
       "      <td>6</td>\n",
       "      <td>...</td>\n",
       "      <td>2</td>\n",
       "      <td>3</td>\n",
       "      <td>3900</td>\n",
       "      <td>1</td>\n",
       "      <td>4</td>\n",
       "      <td>3</td>\n",
       "      <td>0</td>\n",
       "      <td>1256</td>\n",
       "      <td>6</td>\n",
       "      <td>209.333333</td>\n",
       "    </tr>\n",
       "  </tbody>\n",
       "</table>\n",
       "<p>1446 rows × 28 columns</p>\n",
       "</div>"
      ],
      "text/plain": [
       "      saleprice  age  neighborhood_order  local_conditions  was_remodeled  \\\n",
       "0        208500    5                   3                 2              0   \n",
       "1        181500   31                   4                 1              0   \n",
       "2        223500    7                   3                 2              1   \n",
       "3        140000   91                   3                 2              1   \n",
       "4        250000    8                   4                 2              0   \n",
       "...         ...  ...                 ...               ...            ...   \n",
       "1441     175000    8                   3                 2              1   \n",
       "1442     210000   32                   3                 2              1   \n",
       "1443     266500   69                   3                 2              1   \n",
       "1444     142125   60                   2                 2              1   \n",
       "1445     147500   43                   1                 2              0   \n",
       "\n",
       "      overallqual  house_style_condensed_1.5  house_style_condensed_2.0  \\\n",
       "0               7                          0                          1   \n",
       "1               6                          0                          0   \n",
       "2               7                          0                          1   \n",
       "3               7                          0                          1   \n",
       "4               8                          0                          1   \n",
       "...           ...                        ...                        ...   \n",
       "1441            6                          0                          1   \n",
       "1442            6                          0                          0   \n",
       "1443            7                          0                          1   \n",
       "1444            5                          0                          0   \n",
       "1445            5                          0                          0   \n",
       "\n",
       "      exterqual  external_feature  ...  paveddrive  bsmtqual  bsmttype*sfall  \\\n",
       "0             4                10  ...           2         4            4236   \n",
       "1             3                 6  ...           2         4            4890   \n",
       "2             4                10  ...           2         4            2916   \n",
       "3             3                 6  ...           2         3            1080   \n",
       "4             4                10  ...           2         4            3930   \n",
       "...         ...               ...  ...         ...       ...             ...   \n",
       "1441          3                10  ...           2         4               0   \n",
       "1442          3                 8  ...           2         4            4439   \n",
       "1443          5                10  ...           2         3            1650   \n",
       "1444          3                 6  ...           2         3            3381   \n",
       "1445          4                 6  ...           2         3            3900   \n",
       "\n",
       "      bsmtexposure  heatingqc  kitchenqual  fireplacequ  qualityabovesqft  \\\n",
       "0                1          5            4            0              1710   \n",
       "1                4          5            3            3              1262   \n",
       "2                2          5            4            3              1786   \n",
       "3                1          4            4            4              1717   \n",
       "4                3          5            4            3              2198   \n",
       "...            ...        ...          ...          ...               ...   \n",
       "1441             1          5            3            3              1647   \n",
       "1442             1          3            3            3              2073   \n",
       "1443             1          5            4            4              2340   \n",
       "1444             2          4            4            0              1078   \n",
       "1445             1          4            3            0              1256   \n",
       "\n",
       "      totrmsabvgrd   room_size  \n",
       "0                8  213.750000  \n",
       "1                6  210.333333  \n",
       "2                6  297.666667  \n",
       "3                7  245.285714  \n",
       "4                9  244.222222  \n",
       "...            ...         ...  \n",
       "1441             7  235.285714  \n",
       "1442             7  296.142857  \n",
       "1443             9  260.000000  \n",
       "1444             5  215.600000  \n",
       "1445             6  209.333333  \n",
       "\n",
       "[1446 rows x 28 columns]"
      ]
     },
     "execution_count": 2,
     "metadata": {},
     "output_type": "execute_result"
    }
   ],
   "source": [
    "#load and read the clean data\n",
    "\n",
    "ames_clean = pd.read_csv('C:/Users/Admin/Desktop/Ames_train_clean_1.csv')\n",
    "\n",
    "ames_clean"
   ]
  },
  {
   "cell_type": "code",
   "execution_count": 3,
   "metadata": {},
   "outputs": [
    {
     "data": {
      "text/plain": [
       "Index(['saleprice', 'age', 'neighborhood_order', 'local_conditions',\n",
       "       'was_remodeled', 'overallqual', 'house_style_condensed_1.5',\n",
       "       'house_style_condensed_2.0', 'exterqual', 'external_feature',\n",
       "       'is_hip_roof', 'masvnrarea', 'functional', 'lotfrontage', 'lotarea',\n",
       "       'developed_outside_sf', 'garagefin*sqft', 'garagecars', 'paveddrive',\n",
       "       'bsmtqual', 'bsmttype*sfall', 'bsmtexposure', 'heatingqc',\n",
       "       'kitchenqual', 'fireplacequ', 'qualityabovesqft', 'totrmsabvgrd',\n",
       "       'room_size'],\n",
       "      dtype='object')"
      ]
     },
     "execution_count": 3,
     "metadata": {},
     "output_type": "execute_result"
    }
   ],
   "source": [
    "ames_clean.columns"
   ]
  },
  {
   "cell_type": "markdown",
   "metadata": {},
   "source": [
    "Calculate a baseline score to base all of the models off of by taking the Mean Root Square Error of the mean building sale price."
   ]
  },
  {
   "cell_type": "code",
   "execution_count": 4,
   "metadata": {},
   "outputs": [
    {
     "name": "stdout",
     "output_type": "stream",
     "text": [
      "71373.76133899865\n"
     ]
    }
   ],
   "source": [
    "ames_clean['sales_mean'] = ames_clean['saleprice'].mean()\n",
    "\n",
    "mse = mean_squared_error(y_true=ames_clean['saleprice'],y_pred=ames_clean['sales_mean'])\n",
    "\n",
    "rmse = np.sqrt(mse)\n",
    "\n",
    "print(rmse)"
   ]
  },
  {
   "cell_type": "code",
   "execution_count": 5,
   "metadata": {},
   "outputs": [],
   "source": [
    "\n",
    "X = ames_clean.drop(columns=['sales_mean','saleprice'])\n",
    "y = ames_clean['saleprice']\n",
    "\n",
    "X_train,X_val,y_train,y_val = train_test_split(X,y,test_size=0.2,random_state=42)\n",
    " "
   ]
  },
  {
   "cell_type": "markdown",
   "metadata": {},
   "source": [
    "Run unscaled linear regression model:\n",
    "\n"
   ]
  },
  {
   "cell_type": "code",
   "execution_count": 6,
   "metadata": {},
   "outputs": [
    {
     "name": "stdout",
     "output_type": "stream",
     "text": [
      "r2_score: 0.8626098543903811\n"
     ]
    }
   ],
   "source": [
    "model1 = LinearRegression()\n",
    "\n",
    "model1.fit(X_train,y_train)\n",
    "predict1 = model1.predict(X_val)\n",
    "\n",
    "r2 = r2_score(y_val,predict1)\n",
    "\n",
    "print('r2_score:',r2)"
   ]
  },
  {
   "cell_type": "code",
   "execution_count": 7,
   "metadata": {},
   "outputs": [
    {
     "data": {
      "text/html": [
       "<table class=\"simpletable\">\n",
       "<caption>OLS Regression Results</caption>\n",
       "<tr>\n",
       "  <th>Dep. Variable:</th>        <td>saleprice</td>    <th>  R-squared:         </th> <td>   0.874</td> \n",
       "</tr>\n",
       "<tr>\n",
       "  <th>Model:</th>                   <td>OLS</td>       <th>  Adj. R-squared:    </th> <td>   0.871</td> \n",
       "</tr>\n",
       "<tr>\n",
       "  <th>Method:</th>             <td>Least Squares</td>  <th>  F-statistic:       </th> <td>   363.4</td> \n",
       "</tr>\n",
       "<tr>\n",
       "  <th>Date:</th>             <td>Thu, 21 Dec 2023</td> <th>  Prob (F-statistic):</th>  <td>  0.00</td>  \n",
       "</tr>\n",
       "<tr>\n",
       "  <th>Time:</th>                 <td>17:57:15</td>     <th>  Log-Likelihood:    </th> <td> -16716.</td> \n",
       "</tr>\n",
       "<tr>\n",
       "  <th>No. Observations:</th>      <td>  1446</td>      <th>  AIC:               </th> <td>3.349e+04</td>\n",
       "</tr>\n",
       "<tr>\n",
       "  <th>Df Residuals:</th>          <td>  1418</td>      <th>  BIC:               </th> <td>3.364e+04</td>\n",
       "</tr>\n",
       "<tr>\n",
       "  <th>Df Model:</th>              <td>    27</td>      <th>                     </th>     <td> </td>    \n",
       "</tr>\n",
       "<tr>\n",
       "  <th>Covariance Type:</th>      <td>nonrobust</td>    <th>                     </th>     <td> </td>    \n",
       "</tr>\n",
       "</table>\n",
       "<table class=\"simpletable\">\n",
       "<tr>\n",
       "              <td></td>                 <th>coef</th>     <th>std err</th>      <th>t</th>      <th>P>|t|</th>  <th>[0.025</th>    <th>0.975]</th>  \n",
       "</tr>\n",
       "<tr>\n",
       "  <th>const</th>                     <td>-1.723e+05</td> <td> 1.54e+04</td> <td>  -11.202</td> <td> 0.000</td> <td>-2.02e+05</td> <td>-1.42e+05</td>\n",
       "</tr>\n",
       "<tr>\n",
       "  <th>age</th>                       <td>   29.1829</td> <td>   46.659</td> <td>    0.625</td> <td> 0.532</td> <td>  -62.345</td> <td>  120.710</td>\n",
       "</tr>\n",
       "<tr>\n",
       "  <th>neighborhood_order</th>        <td> 9772.1428</td> <td> 1092.350</td> <td>    8.946</td> <td> 0.000</td> <td> 7629.347</td> <td> 1.19e+04</td>\n",
       "</tr>\n",
       "<tr>\n",
       "  <th>local_conditions</th>          <td> 3155.5948</td> <td> 1801.866</td> <td>    1.751</td> <td> 0.080</td> <td> -379.015</td> <td> 6690.205</td>\n",
       "</tr>\n",
       "<tr>\n",
       "  <th>was_remodeled</th>             <td> 6271.4188</td> <td> 1610.668</td> <td>    3.894</td> <td> 0.000</td> <td> 3111.870</td> <td> 9430.967</td>\n",
       "</tr>\n",
       "<tr>\n",
       "  <th>overallqual</th>               <td>  1.02e+04</td> <td>  956.084</td> <td>   10.665</td> <td> 0.000</td> <td> 8321.464</td> <td> 1.21e+04</td>\n",
       "</tr>\n",
       "<tr>\n",
       "  <th>house_style_condensed_1.5</th> <td>-2482.8126</td> <td> 2321.441</td> <td>   -1.070</td> <td> 0.285</td> <td>-7036.640</td> <td> 2071.014</td>\n",
       "</tr>\n",
       "<tr>\n",
       "  <th>house_style_condensed_2.0</th> <td>-9834.1511</td> <td> 1990.832</td> <td>   -4.940</td> <td> 0.000</td> <td>-1.37e+04</td> <td>-5928.859</td>\n",
       "</tr>\n",
       "<tr>\n",
       "  <th>exterqual</th>                 <td> 1.019e+04</td> <td> 2059.226</td> <td>    4.948</td> <td> 0.000</td> <td> 6148.743</td> <td> 1.42e+04</td>\n",
       "</tr>\n",
       "<tr>\n",
       "  <th>external_feature</th>          <td> 1267.4894</td> <td>  423.543</td> <td>    2.993</td> <td> 0.003</td> <td>  436.650</td> <td> 2098.329</td>\n",
       "</tr>\n",
       "<tr>\n",
       "  <th>is_hip_roof</th>               <td> 5142.5026</td> <td> 1841.470</td> <td>    2.793</td> <td> 0.005</td> <td> 1530.205</td> <td> 8754.801</td>\n",
       "</tr>\n",
       "<tr>\n",
       "  <th>masvnrarea</th>                <td>   15.6731</td> <td>    4.536</td> <td>    3.455</td> <td> 0.001</td> <td>    6.775</td> <td>   24.571</td>\n",
       "</tr>\n",
       "<tr>\n",
       "  <th>functional</th>                <td> 5343.7988</td> <td> 1068.847</td> <td>    5.000</td> <td> 0.000</td> <td> 3247.108</td> <td> 7440.490</td>\n",
       "</tr>\n",
       "<tr>\n",
       "  <th>lotfrontage</th>               <td>  117.4181</td> <td>   38.057</td> <td>    3.085</td> <td> 0.002</td> <td>   42.764</td> <td>  192.073</td>\n",
       "</tr>\n",
       "<tr>\n",
       "  <th>lotarea</th>                   <td>    0.3875</td> <td>    0.076</td> <td>    5.086</td> <td> 0.000</td> <td>    0.238</td> <td>    0.537</td>\n",
       "</tr>\n",
       "<tr>\n",
       "  <th>developed_outside_sf</th>      <td>   19.3634</td> <td>    4.923</td> <td>    3.933</td> <td> 0.000</td> <td>    9.706</td> <td>   29.020</td>\n",
       "</tr>\n",
       "<tr>\n",
       "  <th>garagefin*sqft</th>            <td>    8.8548</td> <td>    1.912</td> <td>    4.631</td> <td> 0.000</td> <td>    5.104</td> <td>   12.605</td>\n",
       "</tr>\n",
       "<tr>\n",
       "  <th>garagecars</th>                <td> 3491.1454</td> <td> 1446.720</td> <td>    2.413</td> <td> 0.016</td> <td>  653.205</td> <td> 6329.086</td>\n",
       "</tr>\n",
       "<tr>\n",
       "  <th>paveddrive</th>                <td>  221.8370</td> <td> 1535.124</td> <td>    0.145</td> <td> 0.885</td> <td>-2789.522</td> <td> 3233.196</td>\n",
       "</tr>\n",
       "<tr>\n",
       "  <th>bsmtqual</th>                  <td> 2966.5455</td> <td> 1142.980</td> <td>    2.595</td> <td> 0.010</td> <td>  724.432</td> <td> 5208.659</td>\n",
       "</tr>\n",
       "<tr>\n",
       "  <th>bsmttype*sfall</th>            <td>    4.0508</td> <td>    0.339</td> <td>   11.939</td> <td> 0.000</td> <td>    3.385</td> <td>    4.716</td>\n",
       "</tr>\n",
       "<tr>\n",
       "  <th>bsmtexposure</th>              <td> 2845.5105</td> <td>  760.026</td> <td>    3.744</td> <td> 0.000</td> <td> 1354.615</td> <td> 4336.406</td>\n",
       "</tr>\n",
       "<tr>\n",
       "  <th>heatingqc</th>                 <td> 1809.1736</td> <td>  882.813</td> <td>    2.049</td> <td> 0.041</td> <td>   77.415</td> <td> 3540.932</td>\n",
       "</tr>\n",
       "<tr>\n",
       "  <th>kitchenqual</th>               <td> 8027.6133</td> <td> 1606.865</td> <td>    4.996</td> <td> 0.000</td> <td> 4875.525</td> <td> 1.12e+04</td>\n",
       "</tr>\n",
       "<tr>\n",
       "  <th>fireplacequ</th>               <td> 1597.8628</td> <td>  460.009</td> <td>    3.474</td> <td> 0.001</td> <td>  695.492</td> <td> 2500.234</td>\n",
       "</tr>\n",
       "<tr>\n",
       "  <th>qualityabovesqft</th>          <td>   39.1115</td> <td>    6.148</td> <td>    6.361</td> <td> 0.000</td> <td>   27.051</td> <td>   51.172</td>\n",
       "</tr>\n",
       "<tr>\n",
       "  <th>totrmsabvgrd</th>              <td> 2648.0258</td> <td> 1487.437</td> <td>    1.780</td> <td> 0.075</td> <td> -269.787</td> <td> 5565.838</td>\n",
       "</tr>\n",
       "<tr>\n",
       "  <th>room_size</th>                 <td>   27.5492</td> <td>   40.771</td> <td>    0.676</td> <td> 0.499</td> <td>  -52.429</td> <td>  107.527</td>\n",
       "</tr>\n",
       "</table>\n",
       "<table class=\"simpletable\">\n",
       "<tr>\n",
       "  <th>Omnibus:</th>       <td>499.941</td> <th>  Durbin-Watson:     </th> <td>   2.011</td> \n",
       "</tr>\n",
       "<tr>\n",
       "  <th>Prob(Omnibus):</th> <td> 0.000</td>  <th>  Jarque-Bera (JB):  </th> <td>23987.818</td>\n",
       "</tr>\n",
       "<tr>\n",
       "  <th>Skew:</th>          <td>-0.838</td>  <th>  Prob(JB):          </th> <td>    0.00</td> \n",
       "</tr>\n",
       "<tr>\n",
       "  <th>Kurtosis:</th>      <td>22.883</td>  <th>  Cond. No.          </th> <td>3.32e+05</td> \n",
       "</tr>\n",
       "</table><br/><br/>Notes:<br/>[1] Standard Errors assume that the covariance matrix of the errors is correctly specified.<br/>[2] The condition number is large, 3.32e+05. This might indicate that there are<br/>strong multicollinearity or other numerical problems."
      ],
      "text/plain": [
       "<class 'statsmodels.iolib.summary.Summary'>\n",
       "\"\"\"\n",
       "                            OLS Regression Results                            \n",
       "==============================================================================\n",
       "Dep. Variable:              saleprice   R-squared:                       0.874\n",
       "Model:                            OLS   Adj. R-squared:                  0.871\n",
       "Method:                 Least Squares   F-statistic:                     363.4\n",
       "Date:                Thu, 21 Dec 2023   Prob (F-statistic):               0.00\n",
       "Time:                        17:57:15   Log-Likelihood:                -16716.\n",
       "No. Observations:                1446   AIC:                         3.349e+04\n",
       "Df Residuals:                    1418   BIC:                         3.364e+04\n",
       "Df Model:                          27                                         \n",
       "Covariance Type:            nonrobust                                         \n",
       "=============================================================================================\n",
       "                                coef    std err          t      P>|t|      [0.025      0.975]\n",
       "---------------------------------------------------------------------------------------------\n",
       "const                     -1.723e+05   1.54e+04    -11.202      0.000   -2.02e+05   -1.42e+05\n",
       "age                          29.1829     46.659      0.625      0.532     -62.345     120.710\n",
       "neighborhood_order         9772.1428   1092.350      8.946      0.000    7629.347    1.19e+04\n",
       "local_conditions           3155.5948   1801.866      1.751      0.080    -379.015    6690.205\n",
       "was_remodeled              6271.4188   1610.668      3.894      0.000    3111.870    9430.967\n",
       "overallqual                 1.02e+04    956.084     10.665      0.000    8321.464    1.21e+04\n",
       "house_style_condensed_1.5 -2482.8126   2321.441     -1.070      0.285   -7036.640    2071.014\n",
       "house_style_condensed_2.0 -9834.1511   1990.832     -4.940      0.000   -1.37e+04   -5928.859\n",
       "exterqual                  1.019e+04   2059.226      4.948      0.000    6148.743    1.42e+04\n",
       "external_feature           1267.4894    423.543      2.993      0.003     436.650    2098.329\n",
       "is_hip_roof                5142.5026   1841.470      2.793      0.005    1530.205    8754.801\n",
       "masvnrarea                   15.6731      4.536      3.455      0.001       6.775      24.571\n",
       "functional                 5343.7988   1068.847      5.000      0.000    3247.108    7440.490\n",
       "lotfrontage                 117.4181     38.057      3.085      0.002      42.764     192.073\n",
       "lotarea                       0.3875      0.076      5.086      0.000       0.238       0.537\n",
       "developed_outside_sf         19.3634      4.923      3.933      0.000       9.706      29.020\n",
       "garagefin*sqft                8.8548      1.912      4.631      0.000       5.104      12.605\n",
       "garagecars                 3491.1454   1446.720      2.413      0.016     653.205    6329.086\n",
       "paveddrive                  221.8370   1535.124      0.145      0.885   -2789.522    3233.196\n",
       "bsmtqual                   2966.5455   1142.980      2.595      0.010     724.432    5208.659\n",
       "bsmttype*sfall                4.0508      0.339     11.939      0.000       3.385       4.716\n",
       "bsmtexposure               2845.5105    760.026      3.744      0.000    1354.615    4336.406\n",
       "heatingqc                  1809.1736    882.813      2.049      0.041      77.415    3540.932\n",
       "kitchenqual                8027.6133   1606.865      4.996      0.000    4875.525    1.12e+04\n",
       "fireplacequ                1597.8628    460.009      3.474      0.001     695.492    2500.234\n",
       "qualityabovesqft             39.1115      6.148      6.361      0.000      27.051      51.172\n",
       "totrmsabvgrd               2648.0258   1487.437      1.780      0.075    -269.787    5565.838\n",
       "room_size                    27.5492     40.771      0.676      0.499     -52.429     107.527\n",
       "==============================================================================\n",
       "Omnibus:                      499.941   Durbin-Watson:                   2.011\n",
       "Prob(Omnibus):                  0.000   Jarque-Bera (JB):            23987.818\n",
       "Skew:                          -0.838   Prob(JB):                         0.00\n",
       "Kurtosis:                      22.883   Cond. No.                     3.32e+05\n",
       "==============================================================================\n",
       "\n",
       "Notes:\n",
       "[1] Standard Errors assume that the covariance matrix of the errors is correctly specified.\n",
       "[2] The condition number is large, 3.32e+05. This might indicate that there are\n",
       "strong multicollinearity or other numerical problems.\n",
       "\"\"\""
      ]
     },
     "execution_count": 7,
     "metadata": {},
     "output_type": "execute_result"
    }
   ],
   "source": [
    "#let's take a quick look at the summary stats of our ordinary least squares\n",
    "\n",
    "X = sm.add_constant(X)\n",
    "ols = sm.OLS(y,X).fit()\n",
    "ols.summary()"
   ]
  },
  {
   "cell_type": "markdown",
   "metadata": {},
   "source": [
    "The variables 'local_conditions','house_style_condensed_1.5','lotfrontage','developed_outside_sf','paveddrive','heatingqc','room_size','outdooramenitiesarea' do not pass and we cannot reject the null hypothesis.\n",
    "However, they are kept in order to preserve feature choice for the Home Buyers Toolbox\n",
    "\n",
    "A look at OLS, scaled (all models here on out are scaled)"
   ]
  },
  {
   "cell_type": "code",
   "execution_count": 8,
   "metadata": {},
   "outputs": [
    {
     "name": "stdout",
     "output_type": "stream",
     "text": [
      " Scaled Linear Regression training R^2 score: 0.8729\n",
      " Scaled Linear Regression test R^2 score: 0.8626\n"
     ]
    }
   ],
   "source": [
    "sc = StandardScaler()\n",
    "Z_train = sc.fit_transform(X_train)\n",
    "Z_val = sc.transform(X_val)\n",
    "model1_scaled = LinearRegression()\n",
    "model1_scaled.fit(Z_train, y_train)\n",
    "print(f' Scaled Linear Regression training R^2 score: {round(model1_scaled.score(Z_train, y_train),4)}')\n",
    "print(f' Scaled Linear Regression test R^2 score: {round(model1_scaled.score(Z_val, y_val),4)}')"
   ]
  },
  {
   "cell_type": "code",
   "execution_count": 9,
   "metadata": {},
   "outputs": [
    {
     "data": {
      "image/png": "[encoded data removed]",
      "text/plain": [
       "<Figure size 640x480 with 1 Axes>"
      ]
     },
     "metadata": {},
     "output_type": "display_data"
    }
   ],
   "source": [
    "\n",
    "y_preds = model1_scaled.predict(Z_train)\n",
    "\n",
    "fig,ax = plt.subplots()\n",
    "ax.scatter(y_train,y_preds)\n",
    "ax.plot([y.min(),y.max()],[y.min(),y.max()],'k--')\n",
    "ax.set_xlabel('Measured')\n",
    "ax.set_ylabel('Predicted')\n",
    "plt.axhline(y_train.mean(),c='red')\n",
    "plt.title(\"Mean in red, Scaled Ordinary Least Squares in black\")\n",
    "plt.show()\n"
   ]
  },
  {
   "cell_type": "code",
   "execution_count": 10,
   "metadata": {},
   "outputs": [
    {
     "data": {
      "text/plain": [
       "180874.26211072665"
      ]
     },
     "execution_count": 10,
     "metadata": {},
     "output_type": "execute_result"
    }
   ],
   "source": [
    "y_mean = y_train.mean()\n",
    "\n",
    "y_mean"
   ]
  },
  {
   "cell_type": "code",
   "execution_count": 13,
   "metadata": {},
   "outputs": [
    {
     "name": "stdout",
     "output_type": "stream",
     "text": [
      "rmse: 25958.476810206612\n"
     ]
    }
   ],
   "source": [
    "mse = mean_squared_error(y_train,y_preds)\n",
    "\n",
    "rmse = np.sqrt(mse)\n",
    "\n",
    "print('rmse:',rmse)"
   ]
  },
  {
   "cell_type": "code",
   "execution_count": 16,
   "metadata": {},
   "outputs": [
    {
     "name": "stderr",
     "output_type": "stream",
     "text": [
      "C:\\Users\\Admin\\AppData\\Local\\Temp\\ipykernel_8444\\1279342679.py:3: UserWarning: Matplotlib is currently using module://matplotlib_inline.backend_inline, which is a non-GUI backend, so cannot show the figure.\n",
      "  fig.show()\n"
     ]
    },
    {
     "data": {
      "image/png": "[encoded data removed]",
      "text/plain": [
       "<Figure size 640x480 with 1 Axes>"
      ]
     },
     "metadata": {},
     "output_type": "display_data"
    }
   ],
   "source": [
    "fig,ax = plt.subplots()\n",
    "ax.hist(ames_clean['saleprice'],bins = 10)\n",
    "fig.show()"
   ]
  },
  {
   "cell_type": "code",
   "execution_count": 17,
   "metadata": {},
   "outputs": [
    {
     "name": "stdout",
     "output_type": "stream",
     "text": [
      "1.1945693512630515\n"
     ]
    }
   ],
   "source": [
    "from scipy.stats import skew\n",
    "\n",
    "print(skew(ames_clean['saleprice'],axis=0,bias=True))"
   ]
  },
  {
   "cell_type": "code",
   "execution_count": 18,
   "metadata": {},
   "outputs": [],
   "source": [
    "ames_clean['price_log'] = np.log(ames_clean['saleprice'])"
   ]
  },
  {
   "cell_type": "code",
   "execution_count": 19,
   "metadata": {},
   "outputs": [
    {
     "name": "stderr",
     "output_type": "stream",
     "text": [
      "C:\\Users\\Admin\\AppData\\Local\\Temp\\ipykernel_8444\\2940502489.py:3: UserWarning: Matplotlib is currently using module://matplotlib_inline.backend_inline, which is a non-GUI backend, so cannot show the figure.\n",
      "  fig.show()\n"
     ]
    },
    {
     "data": {
      "image/png": "[encoded data removed]",
      "text/plain": [
       "<Figure size 640x480 with 1 Axes>"
      ]
     },
     "metadata": {},
     "output_type": "display_data"
    }
   ],
   "source": [
    "fig,ax = plt.subplots()\n",
    "ax.hist(ames_clean['price_log'],bins=10)\n",
    "fig.show()"
   ]
  },
  {
   "cell_type": "code",
   "execution_count": 20,
   "metadata": {},
   "outputs": [
    {
     "name": "stdout",
     "output_type": "stream",
     "text": [
      "-0.04532494122342672\n"
     ]
    }
   ],
   "source": [
    "print(skew(ames_clean['price_log'], axis=0, bias=True))"
   ]
  },
  {
   "cell_type": "code",
   "execution_count": 22,
   "metadata": {},
   "outputs": [
    {
     "data": {
      "image/png": "[encoded data removed]",
      "text/plain": [
       "<Figure size 640x480 with 1 Axes>"
      ]
     },
     "metadata": {},
     "output_type": "display_data"
    }
   ],
   "source": [
    "# create X and y variables\n",
    "\n",
    "X_log = ames_clean.drop(columns=['saleprice','sales_mean','price_log'])\n",
    "y_log = ames_clean['price_log']\n",
    "\n",
    "#split into training and test groups\n",
    "X_train_log,X_val_log,y_train_log,y_val_log = train_test_split(X_log,y_log,test_size=0.2,random_state=42)\n",
    "\n",
    "#instatiate fit and score\n",
    "\n",
    "lr_logg = LinearRegression()\n",
    "lr_logg.fit(X=X_train_log,y=y_train_log)\n",
    "\n",
    "preds_log = lr_logg.predict(X_train)\n",
    "price_log_to_norm = np.exp(preds_log)\n",
    "\n",
    "fig,ax = plt.subplots()\n",
    "ax.scatter(y_train,price_log_to_norm)\n",
    "ax.plot([y.min(), y.max()],[y.min(),y.max()],'k--')\n",
    "ax.set_xlabel('Measured')\n",
    "ax.set_ylabel('Predicted')\n",
    "plt.axhline(y_train.mean(),c='red')\n",
    "plt.title(\"Mean in red, Scaled Ordinary Least Squares in black\")\n",
    "plt.show()"
   ]
  },
  {
   "cell_type": "code",
   "execution_count": 23,
   "metadata": {},
   "outputs": [
    {
     "name": "stdout",
     "output_type": "stream",
     "text": [
      "rmse: 27202.019056346224\n"
     ]
    }
   ],
   "source": [
    "mse = mean_squared_error(y_train,price_log_to_norm)\n",
    "\n",
    "rmse = np.sqrt(mse)\n",
    "\n",
    "print('rmse:',rmse)"
   ]
  },
  {
   "cell_type": "markdown",
   "metadata": {},
   "source": [
    "RidgeCV Regression"
   ]
  },
  {
   "cell_type": "code",
   "execution_count": 27,
   "metadata": {},
   "outputs": [
    {
     "data": {
      "text/plain": [
       "166.81005372000593"
      ]
     },
     "execution_count": 27,
     "metadata": {},
     "output_type": "execute_result"
    }
   ],
   "source": [
    "# Set up a list of ridge alphas to check.\n",
    "# np.logspace generates 100 values equally between 0 and 5,\n",
    "# then converts them to alphas between 10^0 and 10^5.\n",
    "\n",
    "r_alphas = np.logspace(0,5,100)\n",
    "\n",
    "# Cross-validate over our list of ridge alphas.\n",
    "ridge_cv = RidgeCV(alphas=r_alphas,scoring='r2',cv=5)\n",
    "\n",
    "# Fit model using best ridge alpha!\n",
    "ridge_cv.fit(Z_train,y_train)\n",
    "\n",
    "# Here is the optimal value of alpha\n",
    "ridge_cv.alpha_"
   ]
  },
  {
   "cell_type": "code",
   "execution_count": 28,
   "metadata": {},
   "outputs": [
    {
     "name": "stdout",
     "output_type": "stream",
     "text": [
      " RidgeCV Regression training R^2 score: 0.8706\n",
      " RidgeCV Regression test R^2 score: 0.8653\n"
     ]
    }
   ],
   "source": [
    "print(f' RidgeCV Regression training R^2 score: {round(ridge_cv.score(Z_train, y_train),4)}')\n",
    "print(f' RidgeCV Regression test R^2 score: {round(ridge_cv.score(Z_val, y_val),4)}')"
   ]
  },
  {
   "cell_type": "code",
   "execution_count": 29,
   "metadata": {},
   "outputs": [
    {
     "name": "stdout",
     "output_type": "stream",
     "text": [
      "Mean Root Square Error in dollars: 26197.41.\n"
     ]
    }
   ],
   "source": [
    "ridge_preds = ridge_cv.predict(Z_train)\n",
    "MRSE = metrics.mean_squared_error(y_true=y_train, y_pred=ridge_preds )**.5\n",
    "print(f'Mean Root Square Error in dollars: {round(MRSE,2)}.')"
   ]
  },
  {
   "cell_type": "markdown",
   "metadata": {},
   "source": [
    "LassoCV Regression"
   ]
  },
  {
   "cell_type": "code",
   "execution_count": 30,
   "metadata": {},
   "outputs": [
    {
     "data": {
      "text/plain": [
       "660.1449092734883"
      ]
     },
     "execution_count": 30,
     "metadata": {},
     "output_type": "execute_result"
    }
   ],
   "source": [
    "# Set up a list of Lasso alphas to check.\n",
    "l_alphas = np.logspace(-3, 3, 500)\n",
    "# Cross-validate over our list of Lasso alphas.\n",
    "lasso_cv = LassoCV(alphas=l_alphas, cv=5, max_iter=10000)\n",
    "# Fit model using best ridge alpha!\n",
    "lasso_cv.fit(Z_train, y_train)\n",
    "#best found alpha\n",
    "lasso_cv.alpha_"
   ]
  },
  {
   "cell_type": "code",
   "execution_count": 31,
   "metadata": {},
   "outputs": [
    {
     "name": "stdout",
     "output_type": "stream",
     "text": [
      " LassoCV Regression training R^2 score: 0.8719\n",
      " LassoCV Regression test R^2 score: 0.8648\n"
     ]
    }
   ],
   "source": [
    "print(f' LassoCV Regression training R^2 score: {round(lasso_cv.score(Z_train, y_train),4)}')\n",
    "print(f' LassoCV Regression test R^2 score: {round(lasso_cv.score(Z_val, y_val),4)}')"
   ]
  },
  {
   "cell_type": "code",
   "execution_count": 32,
   "metadata": {},
   "outputs": [
    {
     "data": {
      "image/png": "[encoded data removed]",
      "text/plain": [
       "<Figure size 640x480 with 1 Axes>"
      ]
     },
     "metadata": {},
     "output_type": "display_data"
    }
   ],
   "source": [
    "y_preds = lasso_cv.predict(Z_train)\n",
    "fig, ax = plt.subplots()\n",
    "ax.scatter(y_train, y_preds)\n",
    "ax.plot([y.min(), y.max()],[y.min(),y.max()],'k--')\n",
    "ax.set_xlabel('Measured')\n",
    "ax.set_ylabel('Predicted')\n",
    "plt.axhline(y_train.mean(),c='red')\n",
    "plt.title(\"Mean in red, LassoCV in black\")\n",
    "plt.show()"
   ]
  },
  {
   "cell_type": "code",
   "execution_count": 33,
   "metadata": {},
   "outputs": [
    {
     "name": "stdout",
     "output_type": "stream",
     "text": [
      "Mean Root Square Error in dollars: 26062.04.\n"
     ]
    }
   ],
   "source": [
    "MRSE = metrics.mean_squared_error(y_true=y_train, y_pred=y_preds )**.5\n",
    "print(f'Mean Root Square Error in dollars: {round(MRSE,2)}.')"
   ]
  },
  {
   "cell_type": "markdown",
   "metadata": {},
   "source": [
    "* Lasso Model"
   ]
  },
  {
   "cell_type": "code",
   "execution_count": 34,
   "metadata": {},
   "outputs": [
    {
     "data": {
      "text/plain": [
       "Pipeline(steps=[('sc', StandardScaler()),\n",
       "                ('lassocv',\n",
       "                 Lasso(alpha=744.5122910795136, max_iter=5000,\n",
       "                       warm_start=True))])"
      ]
     },
     "execution_count": 34,
     "metadata": {},
     "output_type": "execute_result"
    }
   ],
   "source": [
    "lasso_pipe = Pipeline([\n",
    "    ('sc',StandardScaler()),\n",
    "    ('lassocv',Lasso())\n",
    "])\n",
    "\n",
    "lasso_params = {'lassocv__alpha':np.logspace(-1,3,1000),\n",
    "                'lassocv__max_iter':[5000],\n",
    "                'lassocv__warm_start':[True]}\n",
    "#apply pipeline and gridsearch to GridSearchCV\n",
    "lasso_pipe_gridsearch = GridSearchCV(lasso_pipe,param_grid=lasso_params)\n",
    "#fit best result from grid search\n",
    "lasso_pipe_gridsearch.fit(X_train,y_train)\n",
    "lasso_pipe_gridsearch.best_estimator_"
   ]
  },
  {
   "cell_type": "code",
   "execution_count": 35,
   "metadata": {},
   "outputs": [
    {
     "name": "stdout",
     "output_type": "stream",
     "text": [
      "LassoCV R^2 Score: 0.8524\n"
     ]
    }
   ],
   "source": [
    "print(f'LassoCV R^2 Score: {round(lasso_pipe_gridsearch.best_score_,4)}')"
   ]
  },
  {
   "cell_type": "code",
   "execution_count": 36,
   "metadata": {},
   "outputs": [
    {
     "data": {
      "image/png": "[encoded data removed]",
      "text/plain": [
       "<Figure size 640x480 with 1 Axes>"
      ]
     },
     "metadata": {},
     "output_type": "display_data"
    }
   ],
   "source": [
    "y_preds_lassocv = lasso_pipe_gridsearch.predict(X_train)\n",
    "fig, ax = plt.subplots()\n",
    "ax.scatter(y_train, y_preds)\n",
    "ax.plot([y.min(), y.max()],[y.min(),y.max()],'k--')\n",
    "ax.set_xlabel('Measured')\n",
    "ax.set_ylabel('Predicted')\n",
    "plt.axhline(y_train.mean(),c='red')\n",
    "plt.title(\"Sale price average in red, Gridsearch Optimized Ridge in black\")\n",
    "plt.show()"
   ]
  },
  {
   "cell_type": "code",
   "execution_count": 37,
   "metadata": {},
   "outputs": [
    {
     "name": "stdout",
     "output_type": "stream",
     "text": [
      "Mean Root Square Error in dollars: 26083.83.\n"
     ]
    }
   ],
   "source": [
    "MRSE = metrics.mean_squared_error(y_true=y_train, y_pred=y_preds_lassocv )**.5\n",
    "print(f'Mean Root Square Error in dollars: {round(MRSE,2)}.')"
   ]
  },
  {
   "cell_type": "code",
   "execution_count": 38,
   "metadata": {},
   "outputs": [
    {
     "name": "stdout",
     "output_type": "stream",
     "text": [
      "Lasso R^2 Cross Validated Score: 0.8526\n",
      "180874.26211072665\n"
     ]
    },
    {
     "data": {
      "text/html": [
       "<div>\n",
       "<style scoped>\n",
       "    .dataframe tbody tr th:only-of-type {\n",
       "        vertical-align: middle;\n",
       "    }\n",
       "\n",
       "    .dataframe tbody tr th {\n",
       "        vertical-align: top;\n",
       "    }\n",
       "\n",
       "    .dataframe thead th {\n",
       "        text-align: right;\n",
       "    }\n",
       "</style>\n",
       "<table border=\"1\" class=\"dataframe\">\n",
       "  <thead>\n",
       "    <tr style=\"text-align: right;\">\n",
       "      <th></th>\n",
       "      <th>0</th>\n",
       "      <th>1</th>\n",
       "    </tr>\n",
       "  </thead>\n",
       "  <tbody>\n",
       "    <tr>\n",
       "      <th>0</th>\n",
       "      <td>age</td>\n",
       "      <td>-0.000000</td>\n",
       "    </tr>\n",
       "    <tr>\n",
       "      <th>1</th>\n",
       "      <td>neighborhood_order</td>\n",
       "      <td>10482.293850</td>\n",
       "    </tr>\n",
       "    <tr>\n",
       "      <th>2</th>\n",
       "      <td>local_conditions</td>\n",
       "      <td>0.000000</td>\n",
       "    </tr>\n",
       "    <tr>\n",
       "      <th>3</th>\n",
       "      <td>was_remodeled</td>\n",
       "      <td>2420.761332</td>\n",
       "    </tr>\n",
       "    <tr>\n",
       "      <th>4</th>\n",
       "      <td>overallqual</td>\n",
       "      <td>14560.929947</td>\n",
       "    </tr>\n",
       "    <tr>\n",
       "      <th>5</th>\n",
       "      <td>house_style_condensed_1.5</td>\n",
       "      <td>-0.000000</td>\n",
       "    </tr>\n",
       "    <tr>\n",
       "      <th>6</th>\n",
       "      <td>house_style_condensed_2.0</td>\n",
       "      <td>-3156.875499</td>\n",
       "    </tr>\n",
       "    <tr>\n",
       "      <th>7</th>\n",
       "      <td>exterqual</td>\n",
       "      <td>5527.398900</td>\n",
       "    </tr>\n",
       "    <tr>\n",
       "      <th>8</th>\n",
       "      <td>external_feature</td>\n",
       "      <td>1460.938639</td>\n",
       "    </tr>\n",
       "    <tr>\n",
       "      <th>9</th>\n",
       "      <td>is_hip_roof</td>\n",
       "      <td>1572.456382</td>\n",
       "    </tr>\n",
       "    <tr>\n",
       "      <th>10</th>\n",
       "      <td>masvnrarea</td>\n",
       "      <td>2234.405571</td>\n",
       "    </tr>\n",
       "    <tr>\n",
       "      <th>11</th>\n",
       "      <td>functional</td>\n",
       "      <td>2610.183709</td>\n",
       "    </tr>\n",
       "    <tr>\n",
       "      <th>12</th>\n",
       "      <td>lotfrontage</td>\n",
       "      <td>1242.002940</td>\n",
       "    </tr>\n",
       "    <tr>\n",
       "      <th>13</th>\n",
       "      <td>lotarea</td>\n",
       "      <td>3583.411118</td>\n",
       "    </tr>\n",
       "    <tr>\n",
       "      <th>14</th>\n",
       "      <td>developed_outside_sf</td>\n",
       "      <td>2968.063690</td>\n",
       "    </tr>\n",
       "    <tr>\n",
       "      <th>15</th>\n",
       "      <td>garagefin*sqft</td>\n",
       "      <td>7110.948076</td>\n",
       "    </tr>\n",
       "    <tr>\n",
       "      <th>16</th>\n",
       "      <td>garagecars</td>\n",
       "      <td>2100.551607</td>\n",
       "    </tr>\n",
       "    <tr>\n",
       "      <th>17</th>\n",
       "      <td>paveddrive</td>\n",
       "      <td>14.505020</td>\n",
       "    </tr>\n",
       "    <tr>\n",
       "      <th>18</th>\n",
       "      <td>bsmtqual</td>\n",
       "      <td>2443.629926</td>\n",
       "    </tr>\n",
       "    <tr>\n",
       "      <th>19</th>\n",
       "      <td>bsmttype*sfall</td>\n",
       "      <td>9829.516486</td>\n",
       "    </tr>\n",
       "    <tr>\n",
       "      <th>20</th>\n",
       "      <td>bsmtexposure</td>\n",
       "      <td>2541.213061</td>\n",
       "    </tr>\n",
       "    <tr>\n",
       "      <th>21</th>\n",
       "      <td>heatingqc</td>\n",
       "      <td>1086.564679</td>\n",
       "    </tr>\n",
       "    <tr>\n",
       "      <th>22</th>\n",
       "      <td>kitchenqual</td>\n",
       "      <td>5465.433087</td>\n",
       "    </tr>\n",
       "    <tr>\n",
       "      <th>23</th>\n",
       "      <td>fireplacequ</td>\n",
       "      <td>2538.029254</td>\n",
       "    </tr>\n",
       "    <tr>\n",
       "      <th>24</th>\n",
       "      <td>qualityabovesqft</td>\n",
       "      <td>20094.393806</td>\n",
       "    </tr>\n",
       "    <tr>\n",
       "      <th>25</th>\n",
       "      <td>totrmsabvgrd</td>\n",
       "      <td>3115.806396</td>\n",
       "    </tr>\n",
       "    <tr>\n",
       "      <th>26</th>\n",
       "      <td>room_size</td>\n",
       "      <td>0.000000</td>\n",
       "    </tr>\n",
       "  </tbody>\n",
       "</table>\n",
       "</div>"
      ],
      "text/plain": [
       "                            0             1\n",
       "0                         age     -0.000000\n",
       "1          neighborhood_order  10482.293850\n",
       "2            local_conditions      0.000000\n",
       "3               was_remodeled   2420.761332\n",
       "4                 overallqual  14560.929947\n",
       "5   house_style_condensed_1.5     -0.000000\n",
       "6   house_style_condensed_2.0  -3156.875499\n",
       "7                   exterqual   5527.398900\n",
       "8            external_feature   1460.938639\n",
       "9                 is_hip_roof   1572.456382\n",
       "10                 masvnrarea   2234.405571\n",
       "11                 functional   2610.183709\n",
       "12                lotfrontage   1242.002940\n",
       "13                    lotarea   3583.411118\n",
       "14       developed_outside_sf   2968.063690\n",
       "15             garagefin*sqft   7110.948076\n",
       "16                 garagecars   2100.551607\n",
       "17                 paveddrive     14.505020\n",
       "18                   bsmtqual   2443.629926\n",
       "19             bsmttype*sfall   9829.516486\n",
       "20               bsmtexposure   2541.213061\n",
       "21                  heatingqc   1086.564679\n",
       "22                kitchenqual   5465.433087\n",
       "23                fireplacequ   2538.029254\n",
       "24           qualityabovesqft  20094.393806\n",
       "25               totrmsabvgrd   3115.806396\n",
       "26                  room_size      0.000000"
      ]
     },
     "execution_count": 38,
     "metadata": {},
     "output_type": "execute_result"
    }
   ],
   "source": [
    "lasso_sc = StandardScaler()\n",
    "lasso_Z_train = lasso_sc.fit_transform(X_train)\n",
    "lasso_Z_test = lasso_sc.fit_transform(X_val)\n",
    "lasso_coef_eval = Lasso(alpha =744.5122910795136, max_iter=5000)\n",
    "lasso_coef_eval.fit(lasso_Z_train, y_train)\n",
    "print(f'Lasso R^2 Cross Validated Score: {round(cross_val_score(lasso_coef_eval, lasso_Z_train, y_train).mean(),4)}')\n",
    "print(lasso_coef_eval.intercept_)\n",
    "project_model = pd.DataFrame(list(zip(X_train.columns, lasso_coef_eval.coef_)))\n",
    "project_model"
   ]
  },
  {
   "cell_type": "code",
   "execution_count": 39,
   "metadata": {},
   "outputs": [],
   "source": [
    "# put the two functions above together, using 'write binary' permissions\n",
    "# Save the model with pickle\n",
    "pickle.dump(lasso_coef_eval, open('model_ames.p', 'wb'))"
   ]
  },
  {
   "cell_type": "code",
   "execution_count": null,
   "metadata": {},
   "outputs": [],
   "source": []
  }
 ],
 "metadata": {
  "kernelspec": {
   "display_name": "base",
   "language": "python",
   "name": "python3"
  },
  "language_info": {
   "codemirror_mode": {
    "name": "ipython",
    "version": 3
   },
   "file_extension": ".py",
   "mimetype": "text/x-python",
   "name": "python",
   "nbconvert_exporter": "python",
   "pygments_lexer": "ipython3",
   "version": "3.9.13"
  }
 },
 "nbformat": 4,
 "nbformat_minor": 2
}
